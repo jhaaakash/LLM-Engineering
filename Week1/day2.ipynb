{
 "cells": [
  {
   "cell_type": "code",
   "execution_count": null,
   "id": "c2f2a418",
   "metadata": {},
   "outputs": [],
   "source": [
    "# To cehck if ollama is running or not: http://localhost:11434/\n",
    "# if it shows ths it is not running, than type ollama serve and recheck the above url\n",
    "\n",
    "\n",
    "import requests\n",
    "from bs4 import BeautifulSoup\n",
    "from IPython.display import display, Markdown"
   ]
  },
  {
   "cell_type": "code",
   "execution_count": null,
   "id": "9f7db1ca",
   "metadata": {},
   "outputs": [],
   "source": [
    "# Below Command to pull a model on your local in python notebook:\n",
    " \n",
    "# !ollama pull llama3.2\n"
   ]
  },
  {
   "cell_type": "code",
   "execution_count": null,
   "id": "9ca6fabf",
   "metadata": {},
   "outputs": [],
   "source": [
    "# Make sure you Ollama is runing and the model is available on your local\n",
    "\n",
    "OLLAMA_API = \"http://localhost:11434/api/chat\"\n",
    "HEADERS = {\"Content-Type\": \"application/json\"}\n",
    "MODEL = \"llama3.1:8b\""
   ]
  },
  {
   "cell_type": "code",
   "execution_count": 18,
   "id": "647ddf98",
   "metadata": {},
   "outputs": [],
   "source": [
    "messages = [\n",
    "    {\"role\": \"user\", \"content\": \"Describe some of the business applications of Generative AI\"}\n",
    "]"
   ]
  },
  {
   "cell_type": "code",
   "execution_count": 19,
   "id": "dc337957",
   "metadata": {},
   "outputs": [],
   "source": [
    "payload ={\n",
    "    \"model\": MODEL,\n",
    "    \"messages\": messages,\n",
    "    \"stream\": False\n",
    "}"
   ]
  },
  {
   "cell_type": "code",
   "execution_count": 21,
   "id": "e4effc96",
   "metadata": {},
   "outputs": [
    {
     "name": "stdout",
     "output_type": "stream",
     "text": [
      "Generative AI has numerous business applications across various industries, and here are some examples:\n",
      "\n",
      "1. **Content Generation**: Automate content creation for marketing, advertising, and media companies. Generative models can generate:\n",
      "\t* Product descriptions\n",
      "\t* Blog posts\n",
      "\t* Social media content\n",
      "\t* Video scripts\n",
      "\t* Podcasts\n",
      "2. **Product Design and Prototyping**: Use generative AI to design and prototype new products, reducing the need for manual input from designers.\n",
      "3. **Data Augmentation**: Generate synthetic data to augment existing datasets, improving model performance and reducing reliance on expensive or difficult-to-obtain real-world data.\n",
      "4. **Customer Experience Personalization**: Create personalized customer experiences by generating tailored content, such as:\n",
      "\t* Customized product recommendations\n",
      "\t* Personalized ads\n",
      "\t* Dynamic email campaigns\n",
      "5. **Chatbots and Virtual Assistants**: Build more sophisticated chatbots and virtual assistants that can engage in human-like conversations, improving customer support and experience.\n",
      "6. **Predictive Maintenance**: Use generative AI to predict equipment failures and schedule maintenance tasks, reducing downtime and costs.\n",
      "7. **Image and Video Generation**: Generate high-quality images and videos for various applications:\n",
      "\t* Product visualization\n",
      "\t* Advertising and marketing materials\n",
      "\t* Virtual try-on experiences\n",
      "8. **Cybersecurity Threat Detection**: Train generative models to detect and generate attack patterns, helping security teams stay ahead of emerging threats.\n",
      "9. **Market Research and Analysis**: Use generative AI to analyze large datasets, identifying trends, and generating insights for business decision-making.\n",
      "10. **Speech-to-Text and Voice Recognition**: Develop more accurate speech recognition systems, enabling applications like voice assistants, transcription services, and language translation.\n",
      "11. **Financial Forecasting**: Generate predictive models that forecast stock prices, currency exchange rates, and other financial metrics.\n",
      "12. **Customer Service Automation**: Automate tasks such as:\n",
      "\t* Email ticket routing\n",
      "\t* Automated support chatbots\n",
      "\t* Document analysis and response generation\n",
      "13. **Supply Chain Optimization**: Use generative AI to optimize supply chain operations, predicting demand, managing inventory, and identifying potential bottlenecks.\n",
      "14. **Medical Imaging Analysis**: Generate high-quality medical images for diagnosis, treatment planning, and research purposes.\n",
      "15. **E-learning and Education**: Develop personalized learning experiences using generative models that adapt to individual students' needs.\n",
      "\n",
      "These are just a few examples of the many business applications of Generative AI. As the technology continues to evolve, we can expect even more innovative use cases to emerge across various industries.\n"
     ]
    }
   ],
   "source": [
    "# If this doesn't work for any reason, try the 2 versions in the following cells\n",
    "# And double check the instructions in the 'Recap on installation of Ollama' at the top of this lab\n",
    "# And if none of that works - contact me!\n",
    "\n",
    "response = requests.post(OLLAMA_API, json=payload, headers=HEADERS)\n",
    "print(response.json()['message']['content'])"
   ]
  },
  {
   "cell_type": "code",
   "execution_count": null,
   "id": "f8ca2055",
   "metadata": {},
   "outputs": [
    {
     "name": "stdout",
     "output_type": "stream",
     "text": [
      "Generative AI, a subset of Artificial Intelligence (AI), has various applications across different industries. Here are some examples:\n",
      "\n",
      "**Business Applications:**\n",
      "\n",
      "1. **Content Generation**: Companies can use generative AI to generate product descriptions, blog posts, social media content, and other types of text-based content.\n",
      "2. **Automated Customer Support**: Generative AI-powered chatbots can assist customers with simple queries, freeing up human support agents for more complex issues.\n",
      "3. **Predictive Analytics**: By analyzing large datasets, generative AI can predict customer behavior, sales trends, and market patterns, enabling businesses to make data-driven decisions.\n",
      "4. **Personalized Marketing**: Generative AI can create tailored marketing campaigns based on individual customer preferences, improving engagement and conversion rates.\n",
      "5. **Data Augmentation**: Companies can use generative AI to increase the size and diversity of their training datasets, reducing bias and improving model performance.\n",
      "6. **Creative Content Generation**: Artists, designers, and musicians can leverage generative AI tools to generate new ideas, compositions, or designs.\n",
      "7. **Virtual Event Planning**: Generative AI can help plan and execute virtual events by generating agendas, speaker lists, and attendee engagement strategies.\n",
      "8. **Supply Chain Optimization**: Companies can use generative AI to optimize logistics, transportation, and inventory management processes, reducing costs and improving efficiency.\n",
      "9. **Product Recommendation Systems**: Generative AI-powered recommendation systems can suggest relevant products or services to customers based on their preferences and behavior.\n",
      "10. **Language Translation**: Businesses can use generative AI for real-time language translation, enabling global communication and collaboration.\n",
      "\n",
      "**Industry-specific Applications:**\n",
      "\n",
      "1. **Healthcare:** Generative AI can analyze medical images, generate personalized treatment plans, and predict patient outcomes.\n",
      "2. **Finance:** Companies can use generative AI to detect financial anomalies, forecast market trends, and create customized investment portfolios.\n",
      "3. **Retail:** Generative AI-powered product recommendation systems can improve customer satisfaction and increase sales.\n",
      "4. **Manufacturing:** Businesses can leverage generative AI for predictive maintenance, quality control, and supply chain optimization.\n",
      "\n",
      "**Benefits:**\n",
      "\n",
      "1. **Increased Efficiency**: Automating routine tasks and improving workflows.\n",
      "2. **Improved Accuracy**: Reducing errors and biases in decision-making processes.\n",
      "3. **Enhanced Customer Experience**: Providing personalized services and tailored content.\n",
      "4. **Competitive Advantage**: Staying ahead of competitors through innovative applications of generative AI.\n",
      "\n",
      "As the technology continues to evolve, we can expect even more innovative business applications of Generative AI to emerge.\n"
     ]
    }
   ],
   "source": [
    "# This is the simpler way to work with ollama api and LLM model without charging any cost\n",
    "\n",
    "import ollama\n",
    "\n",
    "response = ollama.chat(model=MODEL, messages=messages)\n",
    "print(response['message']['content'])"
   ]
  }
 ],
 "metadata": {
  "kernelspec": {
   "display_name": ".venv (3.13.3)",
   "language": "python",
   "name": "python3"
  },
  "language_info": {
   "codemirror_mode": {
    "name": "ipython",
    "version": 3
   },
   "file_extension": ".py",
   "mimetype": "text/x-python",
   "name": "python",
   "nbconvert_exporter": "python",
   "pygments_lexer": "ipython3",
   "version": "3.13.3"
  }
 },
 "nbformat": 4,
 "nbformat_minor": 5
}
