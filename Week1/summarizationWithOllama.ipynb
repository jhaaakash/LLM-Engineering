{
 "cells": [
  {
   "cell_type": "code",
   "execution_count": 1,
   "id": "730df369",
   "metadata": {},
   "outputs": [],
   "source": [
    "import requests\n",
    "from bs4 import BeautifulSoup\n",
    "from IPython.display import Markdown, display\n",
    "import ollama"
   ]
  },
  {
   "cell_type": "code",
   "execution_count": 2,
   "id": "25f5b581",
   "metadata": {},
   "outputs": [],
   "source": [
    "MODEL = \"deepseek-r1:7b\""
   ]
  },
  {
   "cell_type": "code",
   "execution_count": 3,
   "id": "2b3b23bb",
   "metadata": {},
   "outputs": [],
   "source": [
    "# A class to represent a Webpage\n",
    "\n",
    "class Website:\n",
    "    \"\"\"\n",
    "    A utility class to represent a Website that we have scraped\n",
    "    \"\"\"\n",
    "    url: str\n",
    "    title: str\n",
    "    text: str\n",
    "\n",
    "    def __init__(self, url):\n",
    "        \"\"\"\n",
    "        Create this Website object from the given url using the BeautifulSoup library\n",
    "        \"\"\"\n",
    "        self.url = url\n",
    "        response = requests.get(url)\n",
    "        soup = BeautifulSoup(response.content, 'html.parser')\n",
    "        self.title = soup.title.string if soup.title else \"No title found\"\n",
    "        for irrelevant in soup.body([\"script\", \"style\", \"img\", \"input\"]):\n",
    "            irrelevant.decompose()\n",
    "        self.text = soup.body.get_text(separator=\"\\n\", strip=True)"
   ]
  },
  {
   "cell_type": "code",
   "execution_count": 4,
   "id": "9f80e677",
   "metadata": {},
   "outputs": [
    {
     "name": "stdout",
     "output_type": "stream",
     "text": [
      "Home - Edward Donner\n",
      "Home\n",
      "Connect Four\n",
      "Outsmart\n",
      "An arena that pits LLMs against each other in a battle of diplomacy and deviousness\n",
      "About\n",
      "Posts\n",
      "Well, hi there.\n",
      "I’m Ed. I like writing code and experimenting with LLMs, and hopefully you’re here because you do too. I also enjoy DJing (but I’m badly out of practice), amateur electronic music production (\n",
      "very\n",
      "amateur) and losing myself in\n",
      "Hacker News\n",
      ", nodding my head sagely to things I only half understand.\n",
      "I’m the co-founder and CTO of\n",
      "Nebula.io\n",
      ". We’re applying AI to a field where it can make a massive, positive impact: helping people discover their potential and pursue their reason for being. Recruiters use our product today to source, understand, engage and manage talent. I’m previously the founder and CEO of AI startup untapt,\n",
      "acquired in 2021\n",
      ".\n",
      "We work with groundbreaking, proprietary LLMs verticalized for talent, we’ve\n",
      "patented\n",
      "our matching model, and our award-winning platform has happy customers and tons of press coverage.\n",
      "Connect\n",
      "with me for more!\n",
      "May 28, 2025\n",
      "Connecting my courses – become an LLM expert and leader\n",
      "May 18, 2025\n",
      "2025 AI Executive Briefing\n",
      "April 21, 2025\n",
      "The Complete Agentic AI Engineering Course\n",
      "January 23, 2025\n",
      "LLM Workshop – Hands-on with Agents – resources\n",
      "Navigation\n",
      "Home\n",
      "Connect Four\n",
      "Outsmart\n",
      "An arena that pits LLMs against each other in a battle of diplomacy and deviousness\n",
      "About\n",
      "Posts\n",
      "Get in touch\n",
      "ed [at] edwarddonner [dot] com\n",
      "www.edwarddonner.com\n",
      "Follow me\n",
      "LinkedIn\n",
      "Twitter\n",
      "Facebook\n",
      "Subscribe to newsletter\n",
      "Type your email…\n",
      "Subscribe\n"
     ]
    }
   ],
   "source": [
    "# Let's try one out\n",
    "\n",
    "ed = Website(\"https://edwarddonner.com\")\n",
    "print(ed.title)\n",
    "print(ed.text)"
   ]
  },
  {
   "cell_type": "code",
   "execution_count": 5,
   "id": "717e11a9",
   "metadata": {},
   "outputs": [],
   "source": [
    "# Define our system prompt - you can experiment with this later, changing the last sentence to 'Respond in markdown in Spanish.\"\n",
    "\n",
    "system_prompt = \"You are an assistant that analyzes the contents of a website \\\n",
    "and provides a short summary, ignoring text that might be navigation related. \\\n",
    "Respond in markdown.\""
   ]
  },
  {
   "cell_type": "code",
   "execution_count": 6,
   "id": "a2c41ff7",
   "metadata": {},
   "outputs": [],
   "source": [
    "# A function that writes a User Prompt that asks for summaries of websites:\n",
    "\n",
    "def user_prompt_for(website):\n",
    "    user_prompt = f\"You are looking at a website titled {website.title}\"\n",
    "    user_prompt += \"The contents of this website is as follows; \\\n",
    "please provide a short summary of this website in markdown. \\\n",
    "If it includes news or announcements, then summarize these too.\\n\\n\"\n",
    "    user_prompt += website.text\n",
    "    return user_prompt"
   ]
  },
  {
   "cell_type": "code",
   "execution_count": 7,
   "id": "07600d03",
   "metadata": {},
   "outputs": [],
   "source": [
    "# See how this function creates exactly the format above\n",
    "\n",
    "def messages_for(website):\n",
    "    return [\n",
    "        {\"role\": \"system\", \"content\": system_prompt},\n",
    "        {\"role\": \"user\", \"content\": user_prompt_for(website)}\n",
    "    ]"
   ]
  },
  {
   "cell_type": "code",
   "execution_count": 8,
   "id": "12ac3b85",
   "metadata": {},
   "outputs": [],
   "source": [
    "# And now: call the Ollama function instead of OpenAI\n",
    "\n",
    "def summarize(url):\n",
    "    website = Website(url)\n",
    "    messages = messages_for(website)\n",
    "    response = ollama.chat(model=MODEL, messages=messages)\n",
    "    return response['message']['content']"
   ]
  },
  {
   "cell_type": "code",
   "execution_count": 9,
   "id": "798bc8c3",
   "metadata": {},
   "outputs": [
    {
     "data": {
      "text/plain": [
       "'<think>\\nOkay, so I need to analyze this website called \"Home - Edward Donner\" and provide a short summary in markdown. The user has given the contents of the site, which includes sections like Home, Connect Four, Outsmart, About, Posts, Navigation, and Contact information.\\n\\nFirst, looking at the structure: there\\'s a header with navigation links to various sections and a footer with contact details. I should ignore any navigation text, so focusing on the content itself.\\n\\nThe main content is in the \"Home\" section. It introduces Edward Donner, who writes about AI, specifically LLMs (Large Language Models). He talks about being co-founder and CTO of Nebula.io, which uses AI to help people discover their potential. There\\'s a mention of having founded another startup that was acquired in 2021.\\n\\nHe also has some upcoming courses listed under \"Connect\" with him becoming an LLM expert and leader, with specific course dates in 2025. Additionally, there are posts about AI events scheduled for the same year.\\n\\nThe website seems to be centered around AI, particularly LLMs, education on that topic, and personal branding through his LinkedIn, Twitter, Facebook, etc.\\n\\nI should structure this into sections: About, Products/Courses, Events/Posts, and Contact. Each section can have a brief description without going too deep, just summarizing the key points.\\n</think>\\n\\n```markdown\\n# Edward Donner - Home\\n\\n## About\\nEdward Donner is an AI enthusiast and thought leader. He co-founded and led AI startup untapt before its acquisition in 2021. Currently, he serves as the CTO of Nebula.io, a company applying AI to enhance talent discovery and management.\\n\\n## Products/Courses\\nNebula.io offers proprietary LLMs for verticalized applications, including a matching model patented by the company. Edward provides access to his courses on becoming an LLM expert, such as \"Connecting my courses – become an LLM expert and leader,\" with sessions scheduled throughout 2025.\\n\\n## Events/Posts\\nEdward shares updates about AI-related events and educational content. Upcoming posts include topics like the 2025 AI Executive Briefing and a hands-on course on agentic AI engineering, all expected to take place in early 2025.\\n\\n## Contact\\nFor inquiries, visit his website or follow him on LinkedIn, Twitter, Facebook, or subscribe to his newsletter.\\n```'"
      ]
     },
     "execution_count": 9,
     "metadata": {},
     "output_type": "execute_result"
    }
   ],
   "source": [
    "summarize(\"https://edwarddonner.com\")"
   ]
  },
  {
   "cell_type": "code",
   "execution_count": 10,
   "id": "63b73d88",
   "metadata": {},
   "outputs": [],
   "source": [
    "# A function to display this nicely in the Jupyter output, using markdown\n",
    "\n",
    "def display_summary(url):\n",
    "    summary = summarize(url)\n",
    "    display(Markdown(summary))"
   ]
  },
  {
   "cell_type": "code",
   "execution_count": 11,
   "id": "4566fb5d",
   "metadata": {},
   "outputs": [
    {
     "data": {
      "text/markdown": [
       "<think>\n",
       "Okay, I'm looking at this website called Home - Edward Donner. Let's break down the content.\n",
       "\n",
       "First, the main sections are Home and Connect Four. The Outsmart section is about an arena for LLMs. On the Home page, there's a brief introduction from Ed, who talks about his interests like coding, experimenting with LLMs, and DJing (though he's bad at it). He also mentions being a co-founder of Nebula.io, which uses AI to help people discover their potential.\n",
       "\n",
       "In the Posts section, there are announcements for courses starting in 2025. So these include connecting my courses—becoming an LLM expert and leader; an AI Executive Briefing course; The Complete Agentic AI Engineering Course; and an LLM Workshop with resources.\n",
       "\n",
       "The website also provides contact information: email is ed@edwarddonner.com, a link to his website at www.edwarddonner.com, social media links (LinkedIn, Twitter, Facebook), and a newsletter subscription option with an input field for email.\n",
       "\n",
       "So the summary should cover who Ed is, what he's involved in—AI startups and teaching. Then mention the courses available on the site. Don't include navigation terms like \"Connect Four\" since it's about content sections.\n",
       "</think>\n",
       "\n",
       "# Edward Donner - AI Enthusiast & Co-Founder of Nebula.io\n",
       "\n",
       "Hello! I'm Ed, a passionate AI enthusiast with expertise in experimenting with large language models and coding. I also enjoy DJing (though my skills are rusty) and exploring various hobbies.\n",
       "\n",
       "Previously, I was the co-founder and CTO at Nebula.io, where we leverage AI to help people discover their potential and achieve their goals through talent management. Before that, I founded an AI startup acquired in 2021.\n",
       "\n",
       "Nebula.io has patented its matching model and offers a platform with great customer satisfaction and media coverage. If you're interested, connect with me via email at ed@edwarddonner.com or visit my website at www.edwarddonner.com for more details.\n",
       "\n",
       "### Upcoming Courses:\n",
       "- **Connect My Courses**: Becoming an LLM Expert & Leader\n",
       "- **AI Executive Briefing**: 2025 AI Executive Course\n",
       "- **The Complete Agentic AI Engineering Course**\n",
       "- **LLM Workshop: Hands-on with Agents & Resources**\n",
       "\n",
       "Follow me on LinkedIn, Twitter, and Facebook for updates. Subscribe to my newsletter for the latest insights.\n",
       "\n",
       "Type your email here to get started!"
      ],
      "text/plain": [
       "<IPython.core.display.Markdown object>"
      ]
     },
     "metadata": {},
     "output_type": "display_data"
    }
   ],
   "source": [
    "display_summary(\"https://edwarddonner.com\")"
   ]
  },
  {
   "cell_type": "code",
   "execution_count": null,
   "id": "068b38c1",
   "metadata": {},
   "outputs": [],
   "source": [
    "display_summary(\"https://cnn.com\")"
   ]
  },
  {
   "cell_type": "code",
   "execution_count": null,
   "id": "ac943119",
   "metadata": {},
   "outputs": [],
   "source": [
    "display_summary(\"https://anthropic.com\")"
   ]
  }
 ],
 "metadata": {
  "kernelspec": {
   "display_name": ".venv (3.13.3)",
   "language": "python",
   "name": "python3"
  },
  "language_info": {
   "codemirror_mode": {
    "name": "ipython",
    "version": 3
   },
   "file_extension": ".py",
   "mimetype": "text/x-python",
   "name": "python",
   "nbconvert_exporter": "python",
   "pygments_lexer": "ipython3",
   "version": "3.13.3"
  }
 },
 "nbformat": 4,
 "nbformat_minor": 5
}
