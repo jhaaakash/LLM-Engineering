{
 "cells": [
  {
   "cell_type": "code",
   "execution_count": 1,
   "id": "3b96cef2",
   "metadata": {},
   "outputs": [],
   "source": [
    "from dotenv import load_dotenv\n",
    "from IPython.display import Markdown, display, update_display\n",
    "from openai import OpenAI\n",
    "import ollama"
   ]
  },
  {
   "cell_type": "code",
   "execution_count": 12,
   "id": "77aee2a2",
   "metadata": {},
   "outputs": [],
   "source": [
    "MODEL_GPT='gpt-4o-mini'\n",
    "MODEL_LLAMA='deepseek-r1:7b'"
   ]
  },
  {
   "cell_type": "code",
   "execution_count": 3,
   "id": "4bfacb33",
   "metadata": {},
   "outputs": [],
   "source": [
    "load_dotenv()\n",
    "openai = OpenAI()"
   ]
  },
  {
   "cell_type": "code",
   "execution_count": 4,
   "id": "3a5d2b25",
   "metadata": {},
   "outputs": [],
   "source": [
    "# here is the question; type over this to ask something new\n",
    "\n",
    "question = \"\"\"\n",
    "Please explain what this code does and why:\n",
    "yield from {book.get(\"author\") for book in books if book.get(\"author\")}\n",
    "\"\"\""
   ]
  },
  {
   "cell_type": "code",
   "execution_count": 5,
   "id": "e81a368d",
   "metadata": {},
   "outputs": [],
   "source": [
    "# Prompts\n",
    "system_prompts = \"You are a helpful technical tutor who answer question about python code, software engineering, Data Science, LLMs\"\n",
    "user_prompts = \"please give a detailed explanation to the following questions: \" + question"
   ]
  },
  {
   "cell_type": "code",
   "execution_count": 9,
   "id": "db00d9a6",
   "metadata": {},
   "outputs": [],
   "source": [
    "# messages\n",
    "\n",
    "messages = [\n",
    "    {\"role\": \"system\", \"content\": system_prompts},\n",
    "    {\"role\": \"user\", \"content\": user_prompts}\n",
    "]"
   ]
  },
  {
   "cell_type": "code",
   "execution_count": 10,
   "id": "6fafa531",
   "metadata": {},
   "outputs": [
    {
     "data": {
      "text/markdown": [
       "Sure! Let's break down the code you've provided step by step to understand what it does and why it's structured in this way.\n",
       "\n",
       "### Code Overview\n",
       "\n",
       "python\n",
       "yield from {book.get(\"author\") for book in books if book.get(\"author\")}\n",
       "\n",
       "\n",
       "### Components Breakdown\n",
       "\n",
       "1. **Set Comprehension**: \n",
       "   - Inside the braces `{}`, we have a set comprehension. This is similar to list comprehension but creates a set instead. \n",
       "   - The comprehension iterates over each `book` in the iterable `books`, and for each `book`, it attempts to retrieve the value associated with the key `\"author\"` using the `get` method of the dictionary.\n",
       "\n",
       "2. **`book.get(\"author\")`**:\n",
       "   - The `get` method of the dictionary is used to safely fetch the value associated with the key `\"author\"`. If the key is not found, it will return `None` instead of raising a `KeyError`. \n",
       "   - The `if book.get(\"author\")` part filters the comprehension so that only books that have a valid author (i.e., not `None` or an empty string) are included.\n",
       "\n",
       "3. **Set Creation**:\n",
       "   - Because we are using set comprehension, `{}` creates a set of unique authors extracted from the `books` collection. This means that if there are multiple books by the same author, they will appear only once in the resulting set.\n",
       "\n",
       "4. **`yield from`**:\n",
       "   - The `yield from` statement is used within a generator function in Python. It allows the generator to yield all values from the provided iterable one by one.\n",
       "   - In this case, it will yield each author from the set of authors created by the set comprehension.\n",
       "\n",
       "### Purpose of the Code\n",
       "\n",
       "1. **Extracting Unique Authors**: The primary purpose of this code is to extract a unique list of authors from a collection of books. If there are multiple entries for the same author across different books in the `books` collection, only one entry per author will be yielded due to the nature of the set.\n",
       "\n",
       "2. **Efficient Iteration**: By using `yield from` with a set, the code can efficiently handle the extraction and yielding of authors without needing to explicitly manage the state of iteration.\n",
       "\n",
       "3. **Memory Efficiency**: Instead of creating a full list of authors, this construct yields them one at a time. This is particularly useful when dealing with a large number of books because it can reduce memory consumption.\n",
       "\n",
       "### Example Scenario\n",
       "\n",
       "Imagine you have a list of dictionaries, where each dictionary represents a book and has details like title, author, etc.\n",
       "\n",
       "python\n",
       "books = [\n",
       "    {\"title\": \"Book 1\", \"author\": \"Author A\"},\n",
       "    {\"title\": \"Book 2\", \"author\": \"Author B\"},\n",
       "    {\"title\": \"Book 3\", \"author\": \"Author A\"},\n",
       "    {\"title\": \"Book 4\", \"author\": None},\n",
       "    {\"title\": \"Book 5\", \"author\": \"Author C\"},\n",
       "]\n",
       "\n",
       "\n",
       "When the provided code runs over this list, it will create a set with the authors: `{\"Author A\", \"Author B\", \"Author C\"}` and yield each of those authors one at a time when called from a generator.\n",
       "\n",
       "### Conclusion\n",
       "\n",
       "In summary, this code is a concise and efficient way to extract and yield unique authors from a collection of book dictionaries. By leveraging set comprehension and the power of generators with `yield from`, it provides a clean and effective solution for this kind of data processing task."
      ],
      "text/plain": [
       "<IPython.core.display.Markdown object>"
      ]
     },
     "metadata": {},
     "output_type": "display_data"
    }
   ],
   "source": [
    "stream = openai.chat.completions.create(model=MODEL_GPT, messages=messages,stream=True)\n",
    "\n",
    "response = \"\"\n",
    "display_handle = display(Markdown(\"\"), display_id=True)\n",
    "for chunk in stream:\n",
    "    response += chunk.choices[0].delta.content or ''\n",
    "    response = response.replace(\"```\",\"\").replace(\"markdown\", \"\")\n",
    "    update_display(Markdown(response), display_id=display_handle.display_id)"
   ]
  },
  {
   "cell_type": "code",
   "execution_count": 14,
   "id": "5044cf46",
   "metadata": {},
   "outputs": [
    {
     "data": {
      "text/markdown": [
       "<think>\n",
       "Okay, so I'm looking at this Python code snippet: `yield from {book.get(\"author\") for book in books if book.get(\"author\")}`. Hmm, I need to figure out what it does and why.\n",
       "\n",
       "First off, I know that `yield` is a keyword used in generators for controlled iteration. So whatever is before `yield` must be a generator expression or something similar. The syntax here uses curly braces `{}`, which makes me think of a set comprehension because sets use curly braces in Python. But wait, the code isn't creating a set; it's using a generator inside the yield.\n",
       "\n",
       "Looking at the structure: there's `for book in books if ...`, so that part is definitely a loop over each item in `books`. The condition inside is checking if `book.get(\"author\")` exists. So for each book, it only considers it if the \"author\" key has a value.\n",
       "\n",
       "Now, the part before `yield` is `{book.get(\"author\") for ...}`. This looks like a generator expression because of the curly braces and the `for` loop inside. But since we're using curly braces around it, I thought that might create a set. However, when you use `yield from`, which iterates over an iterable, whether it's a list, tuple, or set, but in this case, maybe it's actually a generator.\n",
       "\n",
       "Wait, no—the expression inside is `{}`, so if we have something like {expr for ...}, that creates a set. But since sets are not ordered and don't allow duplicates by default, using `yield from` on a set would just iterate through each element once per occurrence in the set? Or maybe it's iterating through each unique author.\n",
       "\n",
       "Wait no, actually, because inside the curly braces, we're using a generator expression without explicitly creating an iterable. But when you use `{}` with something that evaluates to True, like `for x in ...`, does it create a set? I'm getting confused here.\n",
       "\n",
       "Let me think again: The code is taking each book, extracting its \"author\" if present, and collecting all those authors into some structure because of the curly braces. So, `{book.get(\"author\") for book in books}` would be equivalent to evaluating the generator expression inside and putting it into a set. So this part generates a collection of unique author names from `books` where \"author\" exists.\n",
       "\n",
       "Then, when we do `yield from` that set, what does that mean? Because generators are iterable, so yielding each element one by one would loop through all the unique authors in the set. Each time the generator function is called, it yields the next value, which is an author name.\n",
       "\n",
       "Wait, but if I have a for loop inside yield, like `yield from something`, then that something must be an iterable. So using `{}` with a for expression creates a set of all those generated elements because { ... (for x in y)} would evaluate to the set containing each element once. Then yielding from that set gives each unique author name one by one.\n",
       "\n",
       "So putting it all together, this code is creating a generator function where each call to next() yields each unique author found in `books` who has at least an \"author\" entry.\n",
       "\n",
       "I'm still a bit unsure because I thought maybe the curly braces were just for grouping and not actually creating a set. But since we're using them with a for loop, it does create an iterable—in this case, a set of unique authors.\n",
       "</think>\n",
       "\n",
       "The code snippet provided is a generator expression that iterates over each book in the `books` collection and yields each unique author name where the \"author\" key exists.\n",
       "\n",
       "**Step-by-Step Explanation:**\n",
       "\n",
       "1. **Generator Expression**: The expression `{book.get(\"author\") for book in books}` creates an iterable. This involves iterating over each item (book) in the `books` collection.\n",
       "   \n",
       "2. **Condition Check**: For each book, it checks if the \"author\" key is present using `if book.get(\"author\")`. Only books with a valid author are included.\n",
       "\n",
       "3. **Collect Unique Authors**: The values from `book.get(\"author\")` for qualifying books are collected into an implicit set (using curly braces `{}`), ensuring each author name appears only once, even if multiple books share the same author.\n",
       "\n",
       "4. **Yield Each Author**: The `yield from` statement iterates over each unique author in the generated set. Each time the generator function is called, it yields one of these author names until all have been yielded.\n",
       "\n",
       "**Summary:**\n",
       "This code creates a generator that yields each unique author found in the `books` collection where an \"author\" entry exists, ensuring no duplicates and maintaining order based on the underlying iterable's structure."
      ],
      "text/plain": [
       "<IPython.core.display.Markdown object>"
      ]
     },
     "metadata": {},
     "output_type": "display_data"
    }
   ],
   "source": [
    "# Get Llama 3.2 to answer\n",
    "\n",
    "response = ollama.chat(model=MODEL_LLAMA, messages=messages)\n",
    "reply = response['message']['content']\n",
    "display(Markdown(reply))"
   ]
  }
 ],
 "metadata": {
  "kernelspec": {
   "display_name": ".venv (3.13.3)",
   "language": "python",
   "name": "python3"
  },
  "language_info": {
   "codemirror_mode": {
    "name": "ipython",
    "version": 3
   },
   "file_extension": ".py",
   "mimetype": "text/x-python",
   "name": "python",
   "nbconvert_exporter": "python",
   "pygments_lexer": "ipython3",
   "version": "3.13.3"
  }
 },
 "nbformat": 4,
 "nbformat_minor": 5
}
